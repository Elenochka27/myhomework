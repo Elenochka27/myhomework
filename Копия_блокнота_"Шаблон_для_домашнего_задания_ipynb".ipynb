{
  "nbformat": 4,
  "nbformat_minor": 0,
  "metadata": {
    "colab": {
      "provenance": [],
      "include_colab_link": true
    },
    "kernelspec": {
      "name": "python3",
      "display_name": "Python 3"
    },
    "language_info": {
      "name": "python"
    }
  },
  "cells": [
    {
      "cell_type": "markdown",
      "metadata": {
        "id": "view-in-github",
        "colab_type": "text"
      },
      "source": [
        "<a href=\"https://colab.research.google.com/github/Elenochka27/myhomework/blob/main/%D0%9A%D0%BE%D0%BF%D0%B8%D1%8F_%D0%B1%D0%BB%D0%BE%D0%BA%D0%BD%D0%BE%D1%82%D0%B0_%22%D0%A8%D0%B0%D0%B1%D0%BB%D0%BE%D0%BD_%D0%B4%D0%BB%D1%8F_%D0%B4%D0%BE%D0%BC%D0%B0%D1%88%D0%BD%D0%B5%D0%B3%D0%BE_%D0%B7%D0%B0%D0%B4%D0%B0%D0%BD%D0%B8%D1%8F_ipynb%22.ipynb\" target=\"_parent\"><img src=\"https://colab.research.google.com/assets/colab-badge.svg\" alt=\"Open In Colab\"/></a>"
      ]
    },
    {
      "cell_type": "code",
      "source": [
        "# Задание на 8 баллов\n",
        "\n",
        "print('Приветствие')\n",
        "print('Пусть программа объяснит, чего ожидает от пользователя')\n",
        "\n",
        "answer = input() # сюда сохраняем ответ пользователя\n",
        "\n",
        "if anwser == 'Сообщение пользователя':\n",
        "  print('Ответ бота')\n",
        "elif anwser == 'Сообщение пользователя2':\n",
        "  print('Ответ бота')\n",
        "elif anwser == 'Сообщение пользователя3':\n",
        "  print('Ответ бота')\n",
        "else:\n",
        "  print('Ответ бота, если ничего из if - elif не подошло')"
      ],
      "metadata": {
        "id": "XHezysDcR_A7"
      },
      "execution_count": null,
      "outputs": []
    },
    {
      "cell_type": "code",
      "source": [
        "# Задание на 10 баллов\n",
        "\n",
        "!pip install pytelegrambotapi\n",
        "\n",
        "import telebot\n",
        "from telebot import types"
      ],
      "metadata": {
        "id": "iuR21biaS57C",
        "colab": {
          "base_uri": "https://localhost:8080/"
        },
        "outputId": "40c1fbd4-8928-458c-9216-ff5daea0494b"
      },
      "execution_count": 13,
      "outputs": [
        {
          "output_type": "stream",
          "name": "stdout",
          "text": [
            "Requirement already satisfied: pytelegrambotapi in /usr/local/lib/python3.10/dist-packages (4.14.1)\n",
            "Requirement already satisfied: requests in /usr/local/lib/python3.10/dist-packages (from pytelegrambotapi) (2.31.0)\n",
            "Requirement already satisfied: charset-normalizer<4,>=2 in /usr/local/lib/python3.10/dist-packages (from requests->pytelegrambotapi) (3.3.2)\n",
            "Requirement already satisfied: idna<4,>=2.5 in /usr/local/lib/python3.10/dist-packages (from requests->pytelegrambotapi) (3.6)\n",
            "Requirement already satisfied: urllib3<3,>=1.21.1 in /usr/local/lib/python3.10/dist-packages (from requests->pytelegrambotapi) (2.0.7)\n",
            "Requirement already satisfied: certifi>=2017.4.17 in /usr/local/lib/python3.10/dist-packages (from requests->pytelegrambotapi) (2023.11.17)\n"
          ]
        }
      ]
    },
    {
      "cell_type": "code",
      "execution_count": 14,
      "metadata": {
        "id": "oMrgrt0fRxnk"
      },
      "outputs": [],
      "source": [
        "your_bot = \"6744275412:AAHopEGRoIL19YiIHP2QTrWauiPxK_MyuEE\"\n",
        "\n",
        "bot = telebot.TeleBot(your_bot) # обновим токен\n",
        "\n",
        "@bot.message_handler(commands=[\"start\"])\n",
        "def start(message):\n",
        "  bot.send_message(message.chat.id, \"Дорогой студент, приветствую тебя. Напиши здесь, какой язык ты хочешь изучать в качестве второго: немецкий, испанский или китайский.\") # можно поменять текст\n",
        "\n",
        "@bot.message_handler(content_types=[\"text\"])\n",
        "def handle_text(message):\n",
        "  # bot.send_message(message.chat.id, \"Сообщение, которое бот присылает всегда, вне зависимости от ответа пользователя\")\n",
        "  # если не нужно, поставьте перед ним #, и питон будет его пропускать\n",
        "\n",
        "  if message.text.strip() in ['Испанский', 'испанский', 'Испанский язык','испанский язык']:\n",
        "    bot.send_message(message.chat.id, 'Благодарю тебя, ты записан в испанскую подгруппу.')\n",
        "\n",
        "  elif message.text.strip() in ['Немецкий', 'немецкий', 'Немецкий язык', 'немецкий язык']:\n",
        "    bot.send_message(message.chat.id, 'Благодарю тебя, ты записан в немецкую подгруппу.')\n",
        "\n",
        "  elif message.text.strip() in ['Китайский', 'китайский', 'Китайский язык', 'китайский язык']:\n",
        "    bot.send_message(message.chat.id, 'Благодарю тебя, ты записан в китайскую подгруппу.')\n",
        "\n",
        "  else:\n",
        "    bot.send_message(message.chat.id, 'Здесь ты можешь выбрать только испанский, немецкий или китайский. Напиши один из этих трёх.')\n",
        "\n",
        "bot.polling(none_stop=True, interval=0) # запускаем бота"
      ]
    },
    {
      "cell_type": "code",
      "source": [],
      "metadata": {
        "id": "xp7xh5_xX70d"
      },
      "execution_count": null,
      "outputs": []
    }
  ]
}